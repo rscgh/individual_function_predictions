{
 "cells": [
  {
   "cell_type": "markdown",
   "metadata": {},
   "source": [
    "# Prepare White-Matter Connecitvity Blueprints\n",
    "\n",
    "This notebook loads individual blueprints and concatenates them into a single file.\n",
    "\n",
    "**Inputs**\n",
    "\n",
    "Indiviudal blueprints, of shape (41, 64984)<br>\n",
    "`/scratch/users/robert.scholz2/hcp_conn_blueprints/{subj}.BP.LR.dscalar.ni`, \n",
    "\n",
    "**Outputs**\n",
    "\n",
    "Single HCP Individual blueprints file<br>\n",
    "`/scratch/users/robert.scholz2/dist_model/inputs/all_blueprints_BPsubset247.npy`\n",
    "\n",
    "<br>"
   ]
  },
  {
   "cell_type": "code",
   "execution_count": null,
   "metadata": {},
   "outputs": [],
   "source": [
    "import numpy as np\n",
    "import nibabel as nib\n",
    "import hcp_utils as hcp"
   ]
  },
  {
   "cell_type": "code",
   "execution_count": 2,
   "metadata": {},
   "outputs": [],
   "source": [
    "#!tar -xf /scratch/users/robert.scholz2/hcp/hcpBlueprints.tar.gz -C /scratch/users/robert.scholz2/hcp_conn_blueprints "
   ]
  },
  {
   "cell_type": "markdown",
   "metadata": {},
   "source": [
    "# Load and then save all blueprints to a single file"
   ]
  },
  {
   "cell_type": "code",
   "execution_count": 3,
   "metadata": {},
   "outputs": [
    {
     "data": {
      "text/plain": [
       "(254, array(['100206', '100610', '101006', '101309'], dtype='<U21'))"
      ]
     },
     "execution_count": 3,
     "metadata": {},
     "output_type": "execute_result"
    }
   ],
   "source": [
    "subjs=np.loadtxt(\"data/subjs_hcp254_full_unrelated.txt\").astype(int).astype(str);\n",
    "len(subjs), subjs[:4]"
   ]
  },
  {
   "cell_type": "code",
   "execution_count": null,
   "metadata": {},
   "outputs": [],
   "source": [
    "!ls /scratch/users/robert.scholz2/hcp_conn_blueprints | tail -n 4\n",
    "bpc=nib.load(\"/scratch/users/robert.scholz2/hcp_conn_blueprints/996782.BP.LR.dscalar.nii\")\n",
    "bpd = bpc.get_fdata()\n",
    "bpd.shape"
   ]
  },
  {
   "cell_type": "code",
   "execution_count": null,
   "metadata": {},
   "outputs": [],
   "source": [
    "import os\n",
    "#sbpa = np.zeros((len(bp_subjs), 1, 29696, 41))\n",
    "bp_subjs = []\n",
    "sbpa = []\n",
    "bp_exists=[]\n",
    "failed_subjs=[]\n",
    "\n",
    "# blueprint file have bma:\n",
    "#('CIFTI_STRUCTURE_CORTEX_LEFT', slice(0, 32492, None))\n",
    "#('CIFTI_STRUCTURE_CORTEX_RIGHT', slice(32492, None, None))\n",
    "\n",
    "for sn, subj in enumerate(subjs):\n",
    "  print(sn, end=\" \"); \n",
    "  f = f\"/scratch/users/robert.scholz2/hcp_conn_blueprints/{subj}.BP.LR.dscalar.nii\"\n",
    "  bp_exists.append(os.path.exists(f))\n",
    "  if os.path.exists(f):\n",
    "    lh = nib.load(f).get_fdata()[:, slice(0, 32492)] # (41, 64984) -- slice -> (41, 32492)\n",
    "    bp_subjs.append(subj)\n",
    "    sbpa.append(lh[:, hcp.vertex_info[\"grayl\"]].T); # each item has shape: (29696, 41)\n",
    "  else:\n",
    "    failed_subjs.append(subj)\n",
    "\n",
    "sbpa = np.array(sbpa)\n",
    "n_subjs=len(bp_subjs)\n",
    "print(\"Failed:\", len(failed_subjs), failed_subjs)\n",
    "print(\"\\nFinal array: \", sbpa.shape)"
   ]
  },
  {
   "cell_type": "code",
   "execution_count": null,
   "metadata": {},
   "outputs": [],
   "source": [
    "#path = \"/home/users/robert.scholz2/bigdata/hcp_100L_subjs_sm12_BPsubset80.txt\" #full_subj_path\n",
    "path = \"data/subjs_hcp254_full_unrelated_BPsubset247.txt\" #full_subj_path\n",
    "np.savetxt(path, bp_subjs, fmt=\"%s\")\n",
    "\n",
    "#sbpa = np.load(path).astype(np.float32)\n",
    "bpdata = {subj : sbpa[i].astype(np.float32) for i, subj in enumerate(bp_subjs)}\n",
    "np.save(\"/scratch/users/robert.scholz2/dist_model/inputs/all_blueprints_BPsubset247.npy\", bpdata)\n",
    "!ls -ash /scratch/users/robert.scholz2/dist_model/inputs/all_blueprints_BPsubset247.npy"
   ]
  },
  {
   "cell_type": "code",
   "execution_count": null,
   "metadata": {},
   "outputs": [],
   "source": []
  },
  {
   "cell_type": "markdown",
   "metadata": {
    "tags": []
   },
   "source": [
    "# Information on the contained white matter tracts"
   ]
  },
  {
   "cell_type": "code",
   "execution_count": null,
   "metadata": {},
   "outputs": [],
   "source": [
    "#xq = nib.load(\"/scratch/users/robert.scholz2/hcp_conn_blueprints/348545.BP.LR.dscalar.nii\")\n",
    "#wm_bundels_names = xq.header.get_axis(0).name\n",
    "wm_bundels_names = ['af_l', 'af_r', 'ar_l', 'ar_r', 'atr_l', 'atr_r', 'cbd_l', 'cbd_r',\n",
    "       'cbp_l', 'cbp_r', 'cbt_l', 'cbt_r', 'cst_l', 'cst_r', 'fa_l',\n",
    "       'fa_r', 'fma', 'fmi', 'fx_l', 'fx_r', 'ilf_l', 'ilf_r', 'ifo_l',\n",
    "       'ifo_r', 'mdlf_l', 'mdlf_r', 'or_l', 'or_r', 'str_l', 'str_r',\n",
    "       'slf1_l', 'slf1_r', 'slf2_l', 'slf2_r', 'slf3_l', 'slf3_r', 'ac',\n",
    "       'uf_l', 'uf_r', 'vof_l', 'vof_r']\n",
    "\n",
    "# different order than:\n",
    "#https://git.fmrib.ox.ac.uk/rmars/comparing-connectivity-blueprints/-/blob/master/structureList\n",
    "# https://github.com/SPMIC-UoN/xtract\n",
    "\n",
    "len(wm_bundels_names)"
   ]
  },
  {
   "cell_type": "code",
   "execution_count": null,
   "metadata": {},
   "outputs": [],
   "source": [
    "np.savetxt(\"/scratch/users/robert.scholz2/dist_model/inputs/wm_blueprint_names.txt\", wm_bundels_names, fmt=\"%s\")"
   ]
  },
  {
   "cell_type": "code",
   "execution_count": null,
   "metadata": {},
   "outputs": [],
   "source": [
    "wminfo = np.array([['Arcuate Fasciculus', 'AF', 'af_l af_r'], ['Acoustic Radiation', 'AR', 'ar_l ar_r'], ['Anterior Thalamic Radiation', 'ATR', 'atr_l atr_r'], ['Cingulum subsection : Dorsal', 'CBD', 'cbd_l cbd_r'], ['Cingulum subsection : Peri-genual', 'CBP', 'cbp_l cbp_r'], ['Cingulum subsection : Temporal', 'CBT', 'cbt_l cbt_r'], ['Corticospinal Tract', 'CST', 'cst_l cst_r'], ['Frontal Aslant', 'FA', 'fa_l fa_r'], ['Forceps Major', 'FMA', 'fma'], ['Forceps Minor', 'FMI', 'fmi'], ['Fornix', 'FX', 'fx_l fx_r'], ['Inferior Longitudinal Fasciculus', 'ILF', 'ilf_l ilf_r'], ['Inferior Fronto-Occipital Fasciculus', 'IFO', 'ifo_l ifo_r'], ['Middle Cerebellar Peduncle', 'MCP', 'mcp'], ['Middle Longitudinal Fasciculus', 'MdLF', 'mdlf_l mdlf_r'], ['Optic Radiation', 'OR', 'or_l or_r'], ['Superior Thalamic Radiation', 'STR', 'str_l str_r'], ['Superior Longitudinal Fasciculus 1', 'SLF1', 'slf1_l slf1_r'], ['Superior Longitudinal Fasciculus 2', 'SLF2', 'slf2_l slf2_r'], ['Superior Longitudinal Fasciculus 3', 'SLF3', 'slf3_l slf3_r'], ['Anterior Commissure', 'AC', 'ac'], ['Uncinate Fasciculus', 'UF', 'uf_l uf_r'], ['Vertical Occipital Fasciculus', 'VOF', 'vof_l vof_r']])\n",
    "wminfo.shape"
   ]
  },
  {
   "cell_type": "code",
   "execution_count": null,
   "metadata": {},
   "outputs": [],
   "source": [
    "bundle_info = []\n",
    "for bn in wm_bundels_names:\n",
    "  print(bn, end=\"\\t\")\n",
    "  for x in wminfo: \n",
    "    if bn in x[-1]: \n",
    "      hemisp = \"l\" if bn.endswith(\"_l\") else \"\";\n",
    "      hemisp = \"r\" if bn.endswith(\"_r\") else hemisp;\n",
    "      bundle_info.append([bn, hemisp, x[0] ])\n",
    "      print(hemisp+ x[0], \"\\t\", )\n",
    "\n",
    "bundle_info= np.array(bundle_info)\n",
    "bundle_info.shape"
   ]
  }
 ],
 "metadata": {
  "kernelspec": {
   "display_name": "Py3.9-Torch (conda-env: bolts)",
   "language": "python",
   "name": "pytroch_nb"
  },
  "language_info": {
   "codemirror_mode": {
    "name": "ipython",
    "version": 3
   },
   "file_extension": ".py",
   "mimetype": "text/x-python",
   "name": "python",
   "nbconvert_exporter": "python",
   "pygments_lexer": "ipython3",
   "version": "3.9.15"
  }
 },
 "nbformat": 4,
 "nbformat_minor": 4
}
