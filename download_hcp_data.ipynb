{
 "cells": [
  {
   "cell_type": "markdown",
   "metadata": {},
   "source": [
    "# Downloading of the HCP task data"
   ]
  },
  {
   "cell_type": "markdown",
   "metadata": {},
   "source": [
    "This notebook shows how to download the relevant files from the HCP-YA dataset stored on AWS\n",
    "\n",
    "**Inputs**\n",
    "\n",
    "List of HCP subjects<br>\n",
    "`data/subjs_hcp254_full_unrelated.txt`\n",
    "\n",
    "**Downloaded Files**\n",
    "\n",
    "Indiviudal Brain Surfaces (aligned to FSLR32k; with and without medial wall)<br>\n",
    "`{subj}/T1w/fsaverage_LR32k/{subj}.L.midthickness_MSMAll.32k_fs_LR.surf.gii`<br>\n",
    "`{subj}/T1w/fsaverage_LR32k/{subj}.{H}.midthickness_MSMAll.29k.noMW.surf.gii`\n",
    "\n",
    "Indiviudal task contrasts<br>\n",
    "`HCP_1200/{subj}/MNINonLinear/Results/tfMRI_{para}/tfMRI_{para}_hp200_s2_level2_MSMAll.feat/{subj}_tfMRI_{para}_level2_hp200_s2_MSMAll.dscalar.nii`, \n",
    "\n",
    "HCP Resting State Group Connectivity Matrix <br>\n",
    "`HCP_Resources/GroupAvg/HCP_S1200_1003_rfMRI_MSMAll_groupPCA_d4500ROW_zcorr.dconn.nii`\n",
    "\n",
    "All 4 HCP resting state runs for each subject <br>\n",
    "reduced to the left hemisphere: shape 4x (29696, 1200) ~ (29696, 1200) <br>\n",
    "`$SUBJ/MNINonLinear/Results/$SESSION/${SESSION}_Atlas_MSMAll_hp2000_clean.dtseries.nii`\n",
    "\n",
    "Indiviudal subject ICA component timeseries, shape (200, 4800) <br>\n",
    "based on group-level ICA components<br>\n",
    "`HCP_Resources/GroupAvg/HCP_PTN1200/NodeTimeseries_3T_HCP1200_MSMAll_ICAd200_ts2.tar.gz`<br>\n",
    "\n",
    "<br>\n",
    "\n",
    "Requires the `awscli` to be installed for python. "
   ]
  },
  {
   "cell_type": "code",
   "execution_count": 4,
   "metadata": {},
   "outputs": [
    {
     "name": "stderr",
     "output_type": "stream",
     "text": [
      "/usr/users/robert.scholz2/.local/lib/python3.9/site-packages/nilearn/datasets/__init__.py:93: FutureWarning: Fetchers from the nilearn.datasets module will be updated in version 0.9 to return python strings instead of bytes and Pandas dataframes instead of Numpy arrays.\n",
      "  warn(\"Fetchers from the nilearn.datasets module will be \"\n",
      "pixdim[1,2,3] should be non-zero; setting 0 dims to 1\n"
     ]
    }
   ],
   "source": [
    "from tqdm import tqdm\n",
    "from IPython.display import clear_output\n",
    "import numpy as np\n",
    "import os\n",
    "\n",
    "from importlib import reload \n",
    "import lib.aws_tools\n",
    "reload(lib.aws_tools)\n",
    "from lib.aws_tools import download_aws_file, exists_locally_or_on_aws\n",
    "\n",
    "# download_aws_file:\n",
    "# calls: python -m awscli s3 cp {aws_bucket}{file} {local_dir}{file}\n",
    "\n",
    "\n",
    "f= lambda str: eval(\"f'\" + f\"{str}\" + \"'\")\n",
    "\n",
    "import hcp_utils as hcp"
   ]
  },
  {
   "cell_type": "code",
   "execution_count": 5,
   "metadata": {},
   "outputs": [],
   "source": [
    "# Defintition of file path templates for the individual brains surfaces (with and without medial wall)\n",
    "nativ_32k_surf      = \"{subj}/T1w/fsaverage_LR32k/{subj}.{H}.midthickness_MSMAll.32k_fs_LR.surf.gii\"\n",
    "nativ_29k_surf_noMW = \"{subj}/T1w/fsaverage_LR32k/{subj}.{H}.midthickness_MSMAll.29k.noMW.surf.gii\"\n",
    "\n",
    "H=\"L\" # Hemisphere of interest"
   ]
  },
  {
   "cell_type": "code",
   "execution_count": 15,
   "metadata": {},
   "outputs": [
    {
     "name": "stdout",
     "output_type": "stream",
     "text": [
      "['EMOTION', 'GAMBLING', 'LANGUAGE', 'MOTOR', 'RELATIONAL', 'SOCIAL', 'WM']\n"
     ]
    },
    {
     "data": {
      "text/plain": [
       "'[subj]/MNINonLinear/Results/tfMRI_WM/tfMRI_WM_hp200_s2_level2_MSMAll.feat/GrayordinatesStats/cope19.feat/tstat1.dtseries.nii'"
      ]
     },
     "execution_count": 15,
     "metadata": {},
     "output_type": "execute_result"
    }
   ],
   "source": [
    "# File templates for the task contrasts\n",
    "from lib.default_config import task_fmri_sam, tmap_type, smooth_lv, tmsmall, contrast_info\n",
    "paradigms = np.unique([c[0] for c in contrast_info]).tolist()\n",
    "print(paradigms)\n",
    "(task, cope_num, contr) = contrast_info[0]\n",
    "subj=\"[subj]\"\n",
    "f(task_fmri_sam)"
   ]
  },
  {
   "cell_type": "markdown",
   "metadata": {},
   "source": [
    "# Checking the existence of data on AWS"
   ]
  },
  {
   "cell_type": "code",
   "execution_count": null,
   "metadata": {},
   "outputs": [],
   "source": [
    "subjs=np.loadtxt(\"data/subjs_hcp255_full_unrelated.txt\").astype(int).astype(str)\n",
    "\n",
    "failed_subjs = []\n",
    "\n",
    "for subj in tqdm(subjs, desc=\"Checking the existence of files\"):  \n",
    "  \n",
    "  if not exists_locally_or_on_aws(\"HCP_1200/\" + f(nativ_32k_surf)):\n",
    "    failed_subjs.append(subj);\n",
    "    continue;\n",
    "    \n",
    "  for (task, cope_num, contr) in contrast_info:\n",
    "    if not exists_locally_or_on_aws(\"HCP_1200/\" + f(task_fmri_sam)):\n",
    "        failed_subjs.append(subj)\n",
    "        continue\n",
    "\n",
    "full_subjs = [subj for subj in subjs if not (subj in failed_subjs)]\n",
    "len(full_subjs)\n",
    "#np.savetxt(\"data/subjs_hcp254_full_unrelated.txt\", full_subjs, fmt=\"%s\")\n",
    "#!cat data/subjs_hcp254_full_unrelated.txt"
   ]
  },
  {
   "cell_type": "markdown",
   "metadata": {},
   "source": [
    "# Download the data from AWS"
   ]
  },
  {
   "cell_type": "code",
   "execution_count": null,
   "metadata": {},
   "outputs": [
    {
     "data": {
      "text/plain": [
       "(254, array(['100206', '100610', '101006', '101309'], dtype='<U21'))"
      ]
     },
     "execution_count": 32,
     "metadata": {},
     "output_type": "execute_result"
    }
   ],
   "source": [
    "full_subjs=np.loadtxt(\"data/subjs_hcp254_full_unrelated.txt\").astype(int).astype(str);\n",
    "len(full_subjs), full_subjs[:4]"
   ]
  },
  {
   "cell_type": "code",
   "execution_count": null,
   "metadata": {},
   "outputs": [],
   "source": [
    "# Download of the task contrasts\n",
    "\n",
    "for subj in tqdm(full_subjs, desc=\"Downloading subject data\"):  \n",
    "  # actually download the full subj data\n",
    "  local_path = download_aws_file(\"HCP_1200/\" + f(nativ_32k_surf));\n",
    "  for (task, cope_num, contr) in contrast_info:\n",
    "    local_path = download_aws_file(\"HCP_1200/\" + f(task_fmri_sam));  \n",
    "  clear_output(wait=True)  \n",
    "  "
   ]
  },
  {
   "cell_type": "code",
   "execution_count": null,
   "metadata": {},
   "outputs": [],
   "source": [
    "# Download of the resting state runs:\n",
    "\n",
    "from lib.default_config import rest_file_stub as rs_file_stub\n",
    "from lib.default_config import rest_sessions as sessions\n",
    "#sessions = [\"rfMRI_REST1_LR\", \"rfMRI_REST1_RL\", \"rfMRI_REST2_LR\", \"rfMRI_REST2_RL\" ]\n",
    "\n",
    "failed = []; failed_subjs = []\n",
    "\n",
    "for subj in tqdm(full_subjs, desc=\"Downloading subject data\"):  \n",
    "  for session in sessions: \n",
    "    file = f(rs_file_stub);\n",
    "    print(file)\n",
    "    local_path = download_aws_file(file);\n",
    "    if local_path == False:  failed.append(file); failed_subjs.append(subj)\n",
    "  \n",
    "  clear_output(wait=True)\n",
    "\n",
    "print(failed_subjs)"
   ]
  },
  {
   "cell_type": "code",
   "execution_count": 5,
   "metadata": {},
   "outputs": [
    {
     "data": {
      "text/plain": [
       "5"
      ]
     },
     "execution_count": 5,
     "metadata": {},
     "output_type": "execute_result"
    }
   ],
   "source": [
    "# Download other structural files (e.g. cortical thickness, myelin, etc)\n",
    "\n",
    "from lib.default_config import structural_file_templates \n",
    "\n",
    "\"\"\"\n",
    "corrthickness is the thickness with curvature regressed out.  It is appropriate \n",
    "for looking at differences between cortical areas in thickness.  The regular \n",
    "thickness is appropriate for morphometrics.\n",
    "\n",
    "structural_file_templates = [\n",
    "  \"{subj}/MNINonLinear/fsaverage_LR32k/{subj}.MyelinMap_BC_MSMAll.32k_fs_LR.dscalar.nii\",\n",
    "  \"{subj}/MNINonLinear/fsaverage_LR32k/{subj}.corrThickness_MSMAll.32k_fs_LR.dscalar.nii\",\n",
    "  \"{subj}/MNINonLinear/fsaverage_LR32k/{subj}.curvature_MSMAll.32k_fs_LR.dscalar.nii\",\n",
    "  \"{subj}/MNINonLinear/fsaverage_LR32k/{subj}.sulc_MSMAll.32k_fs_LR.dscalar.nii\",\n",
    "  \"{subj}/MNINonLinear/fsaverage_LR32k/{subj}.thickness_MSMAll.32k_fs_LR.dscalar.nii\"]\n",
    "\"\"\"\n",
    "\n",
    "#failed = []; failed_subjs_rests = []\n",
    "for subj in tqdm(full_subjs, desc=\"Downloading subject data\"):  \n",
    "  for sf in structural_file_templates: \n",
    "    file= f(sf)\n",
    "    local_path = download_aws_file(\"HCP_1200/\" + file);\n",
    "    if local_path == False:  failed.append(file); failed_subjs.append(subj)\n",
    "  clear_output(wait=True)\n",
    "\n",
    "failed_subjs"
   ]
  },
  {
   "cell_type": "code",
   "execution_count": 38,
   "metadata": {},
   "outputs": [
    {
     "name": "stderr",
     "output_type": "stream",
     "text": [
      "Downloading full subject task data: 100%|██████████| 254/254 [3:13:03<00:00, 45.60s/it]\n"
     ]
    },
    {
     "data": {
      "text/plain": [
       "[]"
      ]
     },
     "execution_count": 38,
     "metadata": {},
     "output_type": "execute_result"
    }
   ],
   "source": [
    "# Download the full task data\n",
    "\n",
    "failed = []; failed_subjs = []\n",
    "for subj in tqdm(full_subjs, desc=\"Downloading full subject task data\"):  \n",
    "  for para in paradigms:\n",
    "    file = f\"HCP_1200/{subj}/MNINonLinear/Results/tfMRI_{para}/tfMRI_{para}_hp200_s2_level2_MSMAll.feat/{subj}_tfMRI_{para}_level2_hp200_s2_MSMAll.dscalar.nii\"\n",
    "    local_path = download_aws_file(file);  \n",
    "    if local_path == False: failed.append(file); failed_subjs.append(subj);\n",
    "  clear_output(wait=True)  \n",
    "\n",
    "failed_subjs"
   ]
  }
 ],
 "metadata": {
  "kernelspec": {
   "display_name": "Py3.9-Torch (conda-env: bolts)",
   "language": "python",
   "name": "pytroch_nb"
  },
  "language_info": {
   "codemirror_mode": {
    "name": "ipython",
    "version": 3
   },
   "file_extension": ".py",
   "mimetype": "text/x-python",
   "name": "python",
   "nbconvert_exporter": "python",
   "pygments_lexer": "ipython3",
   "version": "3.9.15"
  }
 },
 "nbformat": 4,
 "nbformat_minor": 4
}
